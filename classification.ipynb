{
 "cells": [
  {
   "cell_type": "markdown",
   "metadata": {
    "colab_type": "text",
    "id": "TBFXQGKYUc4X"
   },
   "source": [
    "##### Copyright 2018 The TensorFlow Authors."
   ]
  },
  {
   "cell_type": "code",
   "execution_count": 1,
   "metadata": {
    "cellView": "form",
    "colab": {},
    "colab_type": "code",
    "id": "1z4xy2gTUc4a"
   },
   "outputs": [],
   "source": [
    "#@title Licensed under the Apache License, Version 2.0 (the \"License\");\n",
    "# you may not use this file except in compliance with the License.\n",
    "# You may obtain a copy of the License at\n",
    "#\n",
    "# https://www.apache.org/licenses/LICENSE-2.0\n",
    "#\n",
    "# Unless required by applicable law or agreed to in writing, software\n",
    "# distributed under the License is distributed on an \"AS IS\" BASIS,\n",
    "# WITHOUT WARRANTIES OR CONDITIONS OF ANY KIND, either express or implied.\n",
    "# See the License for the specific language governing permissions and\n",
    "# limitations under the License.\n",
    "# \n",
    "# Adapted from: https://github.com/tensorflow/docs/blob/master/site/en/tutorials/images/classification.ipynb\n",
    "# Modified by Muhammad Shalahuddin Yahya Sunarko\n",
    "# 21 April 2020\n",
    "# Re-released under Apache License, Version 2.0\n",
    "# This license is only valid for this Notebook"
   ]
  },
  {
   "cell_type": "markdown",
   "metadata": {
    "colab_type": "text",
    "id": "FE7KNzPPVrVV"
   },
   "source": [
    "# Image classification"
   ]
  },
  {
   "cell_type": "markdown",
   "metadata": {
    "colab_type": "text",
    "id": "zF9uvbXNVrVY"
   },
   "source": [
    "## Import packages"
   ]
  },
  {
   "cell_type": "code",
   "execution_count": 2,
   "metadata": {
    "colab": {},
    "colab_type": "code",
    "id": "nmMfiSBcXZST"
   },
   "outputs": [
    {
     "name": "stdout",
     "output_type": "stream",
     "text": [
      "TF version: 2.1.0\n",
      "Num GPUs Available:  1\n"
     ]
    }
   ],
   "source": [
    "import tensorflow as tf\n",
    "\n",
    "tf.keras.backend.clear_session()\n",
    "print(\"TF version:\", tf.__version__)\n",
    "print(\"Num GPUs Available: \", len(tf.config.experimental.list_physical_devices('GPU')))"
   ]
  },
  {
   "cell_type": "code",
   "execution_count": 3,
   "metadata": {
    "colab": {},
    "colab_type": "code",
    "id": "L1WtoaOHVrVh"
   },
   "outputs": [],
   "source": [
    "from tensorflow.keras.models import Sequential\n",
    "from tensorflow.keras.layers import Activation, Dense, Conv2D, Flatten, Dropout, MaxPooling2D\n",
    "from tensorflow.keras.preprocessing.image import ImageDataGenerator\n",
    "\n",
    "import os\n",
    "import numpy as np\n",
    "import matplotlib.pyplot as plt"
   ]
  },
  {
   "cell_type": "markdown",
   "metadata": {
    "colab_type": "text",
    "id": "UZZI6lNkVrVm"
   },
   "source": [
    "## Load data"
   ]
  },
  {
   "cell_type": "code",
   "execution_count": 4,
   "metadata": {},
   "outputs": [],
   "source": [
    "batch_size = 128\n",
    "epochs = 70\n",
    "IMG_HEIGHT = 96\n",
    "IMG_WIDTH = 96"
   ]
  },
  {
   "cell_type": "code",
   "execution_count": 5,
   "metadata": {
    "colab": {},
    "colab_type": "code",
    "id": "C1nqr-CYY6uw"
   },
   "outputs": [
    {
     "name": "stdout",
     "output_type": "stream",
     "text": [
      "Total train: 3492\n",
      "Total val: 998\n"
     ]
    }
   ],
   "source": [
    "PATH = \"image_classification_dataset_96_split_trainvaltest\"\n",
    "train_dir = os.path.join(PATH, \"train\")\n",
    "val_dir = os.path.join(PATH, \"val\")\n",
    "\n",
    "total_train = sum([len(files) for r, d, files in os.walk(train_dir)])\n",
    "total_val = sum([len(files) for r, d, files in os.walk(val_dir)])\n",
    "print(\"Total train:\", total_train)\n",
    "print(\"Total val:\", total_val)"
   ]
  },
  {
   "cell_type": "markdown",
   "metadata": {
    "colab_type": "text",
    "id": "INn-cOn1VrWC"
   },
   "source": [
    "## Data preparation"
   ]
  },
  {
   "cell_type": "code",
   "execution_count": 6,
   "metadata": {
    "colab": {},
    "colab_type": "code",
    "id": "Pw94ajOOVrWI"
   },
   "outputs": [
    {
     "name": "stdout",
     "output_type": "stream",
     "text": [
      "Found 3492 images belonging to 2 classes.\n"
     ]
    }
   ],
   "source": [
    "train_image_generator = ImageDataGenerator(\n",
    "    rescale=1./255,\n",
    "    horizontal_flip=True,\n",
    "    rotation_range=30)\n",
    "train_data_gen = train_image_generator.flow_from_directory(\n",
    "    batch_size=batch_size,\n",
    "    directory=train_dir,\n",
    "    shuffle=True,\n",
    "    target_size=(IMG_HEIGHT, IMG_WIDTH),\n",
    "    class_mode='binary')"
   ]
  },
  {
   "cell_type": "code",
   "execution_count": 7,
   "metadata": {
    "colab": {},
    "colab_type": "code",
    "id": "2oUoKUzRVrWM"
   },
   "outputs": [
    {
     "name": "stdout",
     "output_type": "stream",
     "text": [
      "Found 998 images belonging to 2 classes.\n"
     ]
    }
   ],
   "source": [
    "val_image_generator = ImageDataGenerator(\n",
    "    rescale=1./255)\n",
    "val_data_gen = val_image_generator.flow_from_directory(\n",
    "    batch_size=batch_size,\n",
    "    directory=val_dir,\n",
    "    target_size=(IMG_HEIGHT, IMG_WIDTH),\n",
    "    class_mode='binary')"
   ]
  },
  {
   "cell_type": "markdown",
   "metadata": {
    "colab_type": "text",
    "id": "b5Ej-HLGVrWZ"
   },
   "source": [
    "## Create the model"
   ]
  },
  {
   "cell_type": "code",
   "execution_count": 8,
   "metadata": {
    "colab": {},
    "colab_type": "code",
    "id": "F15-uwLPVrWa"
   },
   "outputs": [],
   "source": [
    "base_model = tf.keras.applications.MobileNetV2(\n",
    "    input_shape=(IMG_HEIGHT, IMG_WIDTH, 3),\n",
    "    weights=\"imagenet\",\n",
    "    include_top=False,\n",
    "    pooling=\"avg\")\n",
    "\n",
    "model = tf.keras.Sequential([\n",
    "    base_model,\n",
    "    Dense(1),\n",
    "    Activation(\"sigmoid\")\n",
    "])"
   ]
  },
  {
   "cell_type": "code",
   "execution_count": 9,
   "metadata": {
    "colab": {},
    "colab_type": "code",
    "id": "6Mg7_TXOVrWd"
   },
   "outputs": [],
   "source": [
    "base_learning_rate = 0.00001\n",
    "model.compile(optimizer=tf.keras.optimizers.Adam(lr=base_learning_rate),\n",
    "              loss=tf.keras.losses.BinaryCrossentropy(),\n",
    "              metrics=[tf.keras.metrics.BinaryAccuracy(), tf.keras.metrics.AUC()])"
   ]
  },
  {
   "cell_type": "markdown",
   "metadata": {
    "colab_type": "text",
    "id": "2YmQZ3TAVrWg"
   },
   "source": [
    "### Model summary\n",
    "\n",
    "View all the layers of the network using the model's `summary` method:"
   ]
  },
  {
   "cell_type": "code",
   "execution_count": 10,
   "metadata": {
    "colab": {},
    "colab_type": "code",
    "id": "Vtny8hmBVrWh"
   },
   "outputs": [
    {
     "name": "stdout",
     "output_type": "stream",
     "text": [
      "Model: \"sequential\"\n",
      "_________________________________________________________________\n",
      "Layer (type)                 Output Shape              Param #   \n",
      "=================================================================\n",
      "mobilenetv2_1.00_96 (Model)  (None, 1280)              2257984   \n",
      "_________________________________________________________________\n",
      "dense (Dense)                (None, 1)                 1281      \n",
      "_________________________________________________________________\n",
      "activation (Activation)      (None, 1)                 0         \n",
      "=================================================================\n",
      "Total params: 2,259,265\n",
      "Trainable params: 2,225,153\n",
      "Non-trainable params: 34,112\n",
      "_________________________________________________________________\n"
     ]
    }
   ],
   "source": [
    "model.summary()"
   ]
  },
  {
   "cell_type": "markdown",
   "metadata": {
    "colab_type": "text",
    "id": "N06iqE8VVrWj"
   },
   "source": [
    "### Train the model"
   ]
  },
  {
   "cell_type": "code",
   "execution_count": 11,
   "metadata": {
    "colab": {},
    "colab_type": "code",
    "id": "KSF2HqhDVrWk"
   },
   "outputs": [
    {
     "name": "stdout",
     "output_type": "stream",
     "text": [
      "WARNING:tensorflow:sample_weight modes were coerced from\n",
      "  ...\n",
      "    to  \n",
      "  ['...']\n",
      "WARNING:tensorflow:sample_weight modes were coerced from\n",
      "  ...\n",
      "    to  \n",
      "  ['...']\n",
      "Train for 27 steps, validate for 7 steps\n",
      "Epoch 1/70\n",
      "27/27 [==============================] - 15s 572ms/step - loss: 0.7188 - binary_accuracy: 0.5999 - auc: 0.7229 - val_loss: 0.6780 - val_binary_accuracy: 0.5949 - val_auc: 0.8027\n",
      "Epoch 2/70\n",
      "27/27 [==============================] - 8s 310ms/step - loss: 0.3971 - binary_accuracy: 0.8065 - auc: 0.9377 - val_loss: 0.5170 - val_binary_accuracy: 0.7143 - val_auc: 0.8940\n",
      "Epoch 3/70\n",
      "27/27 [==============================] - 8s 312ms/step - loss: 0.2555 - binary_accuracy: 0.9001 - auc: 0.9716 - val_loss: 0.4227 - val_binary_accuracy: 0.7980 - val_auc: 0.9292\n",
      "Epoch 4/70\n",
      "27/27 [==============================] - 9s 320ms/step - loss: 0.1893 - binary_accuracy: 0.9355 - auc: 0.9842 - val_loss: 0.3731 - val_binary_accuracy: 0.8315 - val_auc: 0.9472\n",
      "Epoch 5/70\n",
      "27/27 [==============================] - 8s 307ms/step - loss: 0.1539 - binary_accuracy: 0.9444 - auc: 0.9902 - val_loss: 0.3482 - val_binary_accuracy: 0.8393 - val_auc: 0.9605\n",
      "Epoch 6/70\n",
      "27/27 [==============================] - 9s 321ms/step - loss: 0.1351 - binary_accuracy: 0.9581 - auc: 0.9920 - val_loss: 0.3257 - val_binary_accuracy: 0.8471 - val_auc: 0.9693\n",
      "Epoch 7/70\n",
      "27/27 [==============================] - 9s 326ms/step - loss: 0.1093 - binary_accuracy: 0.9706 - auc: 0.9952 - val_loss: 0.2981 - val_binary_accuracy: 0.8661 - val_auc: 0.9744\n",
      "Epoch 8/70\n",
      "27/27 [==============================] - 9s 334ms/step - loss: 0.0953 - binary_accuracy: 0.9718 - auc: 0.9964 - val_loss: 0.2900 - val_binary_accuracy: 0.8638 - val_auc: 0.9786\n",
      "Epoch 9/70\n",
      "27/27 [==============================] - 9s 335ms/step - loss: 0.0925 - binary_accuracy: 0.9676 - auc: 0.9962 - val_loss: 0.2742 - val_binary_accuracy: 0.8750 - val_auc: 0.9810\n",
      "Epoch 10/70\n",
      "27/27 [==============================] - 9s 343ms/step - loss: 0.0830 - binary_accuracy: 0.9724 - auc: 0.9970 - val_loss: 0.2759 - val_binary_accuracy: 0.8750 - val_auc: 0.9829\n",
      "Epoch 11/70\n",
      "27/27 [==============================] - 9s 338ms/step - loss: 0.0707 - binary_accuracy: 0.9786 - auc: 0.9979 - val_loss: 0.2708 - val_binary_accuracy: 0.8772 - val_auc: 0.9844\n",
      "Epoch 12/70\n",
      "27/27 [==============================] - 9s 319ms/step - loss: 0.0684 - binary_accuracy: 0.9780 - auc: 0.9980 - val_loss: 0.2699 - val_binary_accuracy: 0.8761 - val_auc: 0.9860\n",
      "Epoch 13/70\n",
      "27/27 [==============================] - 9s 328ms/step - loss: 0.0613 - binary_accuracy: 0.9798 - auc: 0.9984 - val_loss: 0.2598 - val_binary_accuracy: 0.8828 - val_auc: 0.9864\n",
      "Epoch 14/70\n",
      "27/27 [==============================] - 10s 365ms/step - loss: 0.0575 - binary_accuracy: 0.9825 - auc: 0.9986 - val_loss: 0.2738 - val_binary_accuracy: 0.8795 - val_auc: 0.9873\n",
      "Epoch 15/70\n",
      "27/27 [==============================] - 9s 334ms/step - loss: 0.0521 - binary_accuracy: 0.9845 - auc: 0.9989 - val_loss: 0.2570 - val_binary_accuracy: 0.8906 - val_auc: 0.9883\n",
      "Epoch 16/70\n",
      "27/27 [==============================] - 9s 331ms/step - loss: 0.0475 - binary_accuracy: 0.9872 - auc: 0.9990 - val_loss: 0.2517 - val_binary_accuracy: 0.8917 - val_auc: 0.9890\n",
      "Epoch 17/70\n",
      "27/27 [==============================] - 9s 338ms/step - loss: 0.0479 - binary_accuracy: 0.9863 - auc: 0.9989 - val_loss: 0.2733 - val_binary_accuracy: 0.8873 - val_auc: 0.9885\n",
      "Epoch 18/70\n",
      "27/27 [==============================] - 10s 357ms/step - loss: 0.0377 - binary_accuracy: 0.9911 - auc: 0.9995 - val_loss: 0.2603 - val_binary_accuracy: 0.8940 - val_auc: 0.9890\n",
      "Epoch 19/70\n",
      "27/27 [==============================] - 9s 332ms/step - loss: 0.0370 - binary_accuracy: 0.9890 - auc: 0.9995 - val_loss: 0.2426 - val_binary_accuracy: 0.8996 - val_auc: 0.9895\n",
      "Epoch 20/70\n",
      "27/27 [==============================] - 10s 352ms/step - loss: 0.0368 - binary_accuracy: 0.9899 - auc: 0.9991 - val_loss: 0.2430 - val_binary_accuracy: 0.9007 - val_auc: 0.9898\n",
      "Epoch 21/70\n",
      "27/27 [==============================] - 9s 336ms/step - loss: 0.0291 - binary_accuracy: 0.9938 - auc: 0.9997 - val_loss: 0.2379 - val_binary_accuracy: 0.9018 - val_auc: 0.9901\n",
      "Epoch 22/70\n",
      "27/27 [==============================] - 9s 341ms/step - loss: 0.0302 - binary_accuracy: 0.9911 - auc: 0.9996 - val_loss: 0.2369 - val_binary_accuracy: 0.9074 - val_auc: 0.9905\n",
      "Epoch 23/70\n",
      "27/27 [==============================] - 9s 336ms/step - loss: 0.0275 - binary_accuracy: 0.9938 - auc: 0.9997 - val_loss: 0.2366 - val_binary_accuracy: 0.9074 - val_auc: 0.9907\n",
      "Epoch 24/70\n",
      "27/27 [==============================] - 9s 339ms/step - loss: 0.0254 - binary_accuracy: 0.9944 - auc: 0.9998 - val_loss: 0.2415 - val_binary_accuracy: 0.9062 - val_auc: 0.9908\n",
      "Epoch 25/70\n",
      "27/27 [==============================] - 10s 362ms/step - loss: 0.0246 - binary_accuracy: 0.9949 - auc: 0.9998 - val_loss: 0.2359 - val_binary_accuracy: 0.9074 - val_auc: 0.9906\n",
      "Epoch 26/70\n",
      "27/27 [==============================] - 9s 346ms/step - loss: 0.0202 - binary_accuracy: 0.9958 - auc: 0.9999 - val_loss: 0.2153 - val_binary_accuracy: 0.9174 - val_auc: 0.9910\n",
      "Epoch 27/70\n",
      "27/27 [==============================] - 9s 343ms/step - loss: 0.0212 - binary_accuracy: 0.9952 - auc: 0.9999 - val_loss: 0.2092 - val_binary_accuracy: 0.9208 - val_auc: 0.9911\n",
      "Epoch 28/70\n",
      "27/27 [==============================] - 9s 342ms/step - loss: 0.0231 - binary_accuracy: 0.9932 - auc: 0.9997 - val_loss: 0.2084 - val_binary_accuracy: 0.9208 - val_auc: 0.9911\n",
      "Epoch 29/70\n",
      "27/27 [==============================] - 10s 357ms/step - loss: 0.0176 - binary_accuracy: 0.9964 - auc: 0.9999 - val_loss: 0.1943 - val_binary_accuracy: 0.9263 - val_auc: 0.9913\n",
      "Epoch 30/70\n",
      "27/27 [==============================] - 9s 347ms/step - loss: 0.0164 - binary_accuracy: 0.9955 - auc: 0.9999 - val_loss: 0.1962 - val_binary_accuracy: 0.9252 - val_auc: 0.9913\n",
      "Epoch 31/70\n",
      "27/27 [==============================] - 10s 366ms/step - loss: 0.0164 - binary_accuracy: 0.9961 - auc: 0.9999 - val_loss: 0.2108 - val_binary_accuracy: 0.9219 - val_auc: 0.9912\n",
      "Epoch 32/70\n",
      "27/27 [==============================] - 9s 351ms/step - loss: 0.0161 - binary_accuracy: 0.9964 - auc: 0.9999 - val_loss: 0.2124 - val_binary_accuracy: 0.9241 - val_auc: 0.9914\n",
      "Epoch 33/70\n",
      "27/27 [==============================] - 9s 350ms/step - loss: 0.0170 - binary_accuracy: 0.9952 - auc: 0.9999 - val_loss: 0.1987 - val_binary_accuracy: 0.9263 - val_auc: 0.9914\n",
      "Epoch 34/70\n",
      "27/27 [==============================] - 10s 378ms/step - loss: 0.0149 - binary_accuracy: 0.9967 - auc: 0.9999 - val_loss: 0.1822 - val_binary_accuracy: 0.9297 - val_auc: 0.9916\n",
      "Epoch 35/70\n",
      "27/27 [==============================] - 10s 370ms/step - loss: 0.0129 - binary_accuracy: 0.9976 - auc: 1.0000 - val_loss: 0.1773 - val_binary_accuracy: 0.9308 - val_auc: 0.9917\n",
      "Epoch 36/70\n",
      "27/27 [==============================] - 9s 349ms/step - loss: 0.0145 - binary_accuracy: 0.9970 - auc: 0.9998 - val_loss: 0.1786 - val_binary_accuracy: 0.9319 - val_auc: 0.9928\n",
      "Epoch 37/70\n",
      "27/27 [==============================] - 10s 358ms/step - loss: 0.0135 - binary_accuracy: 0.9964 - auc: 0.9999 - val_loss: 0.1816 - val_binary_accuracy: 0.9330 - val_auc: 0.9930\n",
      "Epoch 38/70\n",
      "27/27 [==============================] - 10s 379ms/step - loss: 0.0119 - binary_accuracy: 0.9964 - auc: 1.0000 - val_loss: 0.1852 - val_binary_accuracy: 0.9308 - val_auc: 0.9930\n",
      "Epoch 39/70\n",
      "27/27 [==============================] - 9s 341ms/step - loss: 0.0102 - binary_accuracy: 0.9985 - auc: 1.0000 - val_loss: 0.1716 - val_binary_accuracy: 0.9342 - val_auc: 0.9932\n",
      "Epoch 40/70\n",
      "27/27 [==============================] - 9s 340ms/step - loss: 0.0104 - binary_accuracy: 0.9982 - auc: 1.0000 - val_loss: 0.1576 - val_binary_accuracy: 0.9353 - val_auc: 0.9932\n",
      "Epoch 41/70\n",
      "27/27 [==============================] - 9s 340ms/step - loss: 0.0091 - binary_accuracy: 0.9994 - auc: 1.0000 - val_loss: 0.1523 - val_binary_accuracy: 0.9375 - val_auc: 0.9933\n",
      "Epoch 42/70\n",
      "27/27 [==============================] - 10s 362ms/step - loss: 0.0085 - binary_accuracy: 0.9986 - auc: 1.0000 - val_loss: 0.1539 - val_binary_accuracy: 0.9386 - val_auc: 0.9935\n",
      "Epoch 43/70\n"
     ]
    },
    {
     "name": "stdout",
     "output_type": "stream",
     "text": [
      "27/27 [==============================] - 10s 352ms/step - loss: 0.0089 - binary_accuracy: 0.9979 - auc: 1.0000 - val_loss: 0.1399 - val_binary_accuracy: 0.9487 - val_auc: 0.9936\n",
      "Epoch 44/70\n",
      "27/27 [==============================] - 10s 358ms/step - loss: 0.0073 - binary_accuracy: 0.9988 - auc: 1.0000 - val_loss: 0.1523 - val_binary_accuracy: 0.9431 - val_auc: 0.9936\n",
      "Epoch 45/70\n",
      "27/27 [==============================] - 10s 359ms/step - loss: 0.0080 - binary_accuracy: 0.9985 - auc: 1.0000 - val_loss: 0.1479 - val_binary_accuracy: 0.9464 - val_auc: 0.9927\n",
      "Epoch 46/70\n",
      "27/27 [==============================] - 10s 369ms/step - loss: 0.0075 - binary_accuracy: 0.9988 - auc: 1.0000 - val_loss: 0.1485 - val_binary_accuracy: 0.9464 - val_auc: 0.9927\n",
      "Epoch 47/70\n",
      "27/27 [==============================] - 9s 348ms/step - loss: 0.0069 - binary_accuracy: 0.9991 - auc: 1.0000 - val_loss: 0.1375 - val_binary_accuracy: 0.9509 - val_auc: 0.9927\n",
      "Epoch 48/70\n",
      "27/27 [==============================] - 10s 362ms/step - loss: 0.0063 - binary_accuracy: 0.9991 - auc: 1.0000 - val_loss: 0.1290 - val_binary_accuracy: 0.9542 - val_auc: 0.9929\n",
      "Epoch 49/70\n",
      "27/27 [==============================] - 10s 354ms/step - loss: 0.0060 - binary_accuracy: 0.9997 - auc: 1.0000 - val_loss: 0.1318 - val_binary_accuracy: 0.9509 - val_auc: 0.9929\n",
      "Epoch 50/70\n",
      "27/27 [==============================] - 10s 362ms/step - loss: 0.0059 - binary_accuracy: 0.9994 - auc: 1.0000 - val_loss: 0.1168 - val_binary_accuracy: 0.9565 - val_auc: 0.9931\n",
      "Epoch 51/70\n",
      "27/27 [==============================] - 10s 359ms/step - loss: 0.0058 - binary_accuracy: 0.9997 - auc: 1.0000 - val_loss: 0.1138 - val_binary_accuracy: 0.9587 - val_auc: 0.9932\n",
      "Epoch 52/70\n",
      "27/27 [==============================] - 9s 341ms/step - loss: 0.0050 - binary_accuracy: 0.9994 - auc: 1.0000 - val_loss: 0.1124 - val_binary_accuracy: 0.9587 - val_auc: 0.9932\n",
      "Epoch 53/70\n",
      "27/27 [==============================] - 9s 347ms/step - loss: 0.0063 - binary_accuracy: 0.9991 - auc: 1.0000 - val_loss: 0.1225 - val_binary_accuracy: 0.9542 - val_auc: 0.9931\n",
      "Epoch 54/70\n",
      "27/27 [==============================] - 9s 351ms/step - loss: 0.0052 - binary_accuracy: 0.9994 - auc: 1.0000 - val_loss: 0.1331 - val_binary_accuracy: 0.9542 - val_auc: 0.9931\n",
      "Epoch 55/70\n",
      "27/27 [==============================] - 10s 371ms/step - loss: 0.0039 - binary_accuracy: 1.0000 - auc: 1.0000 - val_loss: 0.1180 - val_binary_accuracy: 0.9554 - val_auc: 0.9933\n",
      "Epoch 56/70\n",
      "27/27 [==============================] - 10s 373ms/step - loss: 0.0046 - binary_accuracy: 0.9994 - auc: 1.0000 - val_loss: 0.1088 - val_binary_accuracy: 0.9587 - val_auc: 0.9933\n",
      "Epoch 57/70\n",
      "27/27 [==============================] - 9s 351ms/step - loss: 0.0041 - binary_accuracy: 0.9994 - auc: 1.0000 - val_loss: 0.1098 - val_binary_accuracy: 0.9587 - val_auc: 0.9933\n",
      "Epoch 58/70\n",
      "27/27 [==============================] - 10s 362ms/step - loss: 0.0043 - binary_accuracy: 0.9997 - auc: 1.0000 - val_loss: 0.1042 - val_binary_accuracy: 0.9609 - val_auc: 0.9934\n",
      "Epoch 59/70\n",
      "27/27 [==============================] - 10s 366ms/step - loss: 0.0037 - binary_accuracy: 1.0000 - auc: 1.0000 - val_loss: 0.1022 - val_binary_accuracy: 0.9609 - val_auc: 0.9934\n",
      "Epoch 60/70\n",
      "27/27 [==============================] - 10s 374ms/step - loss: 0.0037 - binary_accuracy: 0.9994 - auc: 1.0000 - val_loss: 0.1021 - val_binary_accuracy: 0.9609 - val_auc: 0.9935\n",
      "Epoch 61/70\n",
      "27/27 [==============================] - 10s 360ms/step - loss: 0.0033 - binary_accuracy: 0.9994 - auc: 1.0000 - val_loss: 0.0943 - val_binary_accuracy: 0.9621 - val_auc: 0.9935\n",
      "Epoch 62/70\n",
      "27/27 [==============================] - 10s 352ms/step - loss: 0.0047 - binary_accuracy: 0.9994 - auc: 1.0000 - val_loss: 0.0963 - val_binary_accuracy: 0.9609 - val_auc: 0.9935\n",
      "Epoch 63/70\n",
      "27/27 [==============================] - 10s 363ms/step - loss: 0.0030 - binary_accuracy: 1.0000 - auc: 1.0000 - val_loss: 0.0954 - val_binary_accuracy: 0.9609 - val_auc: 0.9936\n",
      "Epoch 64/70\n",
      "27/27 [==============================] - 10s 355ms/step - loss: 0.0035 - binary_accuracy: 0.9988 - auc: 1.0000 - val_loss: 0.0987 - val_binary_accuracy: 0.9609 - val_auc: 0.9936\n",
      "Epoch 65/70\n",
      "27/27 [==============================] - 10s 361ms/step - loss: 0.0029 - binary_accuracy: 1.0000 - auc: 1.0000 - val_loss: 0.0934 - val_binary_accuracy: 0.9621 - val_auc: 0.9937\n",
      "Epoch 66/70\n",
      "27/27 [==============================] - 10s 366ms/step - loss: 0.0028 - binary_accuracy: 0.9997 - auc: 1.0000 - val_loss: 0.0891 - val_binary_accuracy: 0.9676 - val_auc: 0.9937\n",
      "Epoch 67/70\n",
      "27/27 [==============================] - 9s 344ms/step - loss: 0.0024 - binary_accuracy: 1.0000 - auc: 1.0000 - val_loss: 0.0869 - val_binary_accuracy: 0.9676 - val_auc: 0.9948\n",
      "Epoch 68/70\n",
      "27/27 [==============================] - 10s 366ms/step - loss: 0.0028 - binary_accuracy: 0.9997 - auc: 1.0000 - val_loss: 0.0846 - val_binary_accuracy: 0.9721 - val_auc: 0.9948\n",
      "Epoch 69/70\n",
      "27/27 [==============================] - 10s 363ms/step - loss: 0.0027 - binary_accuracy: 0.9997 - auc: 1.0000 - val_loss: 0.0849 - val_binary_accuracy: 0.9721 - val_auc: 0.9949\n",
      "Epoch 70/70\n",
      "27/27 [==============================] - 10s 372ms/step - loss: 0.0021 - binary_accuracy: 0.9997 - auc: 1.0000 - val_loss: 0.0827 - val_binary_accuracy: 0.9732 - val_auc: 0.9949\n"
     ]
    }
   ],
   "source": [
    "history = model.fit(\n",
    "    train_data_gen,\n",
    "    steps_per_epoch=total_train // batch_size,\n",
    "    epochs=epochs,\n",
    "    validation_data=val_data_gen,\n",
    "    validation_steps=total_val // batch_size\n",
    ")\n",
    "model.save(\"masked_face_classifier.h5\")"
   ]
  },
  {
   "cell_type": "markdown",
   "metadata": {
    "colab_type": "text",
    "id": "ojJNteAGVrWo"
   },
   "source": [
    "### Visualize training results"
   ]
  },
  {
   "cell_type": "markdown",
   "metadata": {
    "colab_type": "text",
    "id": "LZPYT-EmVrWo"
   },
   "source": [
    "Now visualize the results after training the network."
   ]
  },
  {
   "cell_type": "code",
   "execution_count": 12,
   "metadata": {},
   "outputs": [
    {
     "data": {
      "image/png": "[encoded data removed]",
      "text/plain": [
       "<Figure size 1152x864 with 3 Axes>"
      ]
     },
     "metadata": {
      "needs_background": "light"
     },
     "output_type": "display_data"
    }
   ],
   "source": [
    "acc = history.history['binary_accuracy']\n",
    "val_acc = history.history['val_binary_accuracy']\n",
    "\n",
    "auc = history.history['auc']\n",
    "val_auc = history.history['val_auc']\n",
    "\n",
    "loss = history.history['loss']\n",
    "val_loss = history.history['val_loss']\n",
    "\n",
    "epochs_range = range(epochs)\n",
    "\n",
    "plt.figure(figsize=(16, 12))\n",
    "\n",
    "ax = plt.subplot(1, 3, 1)\n",
    "ylim_min, ylim_max = 0.85, 1.0\n",
    "major_ticks = np.arange(ylim_min, ylim_max, 0.05)\n",
    "minor_ticks = np.arange(ylim_min, ylim_max, 0.01)\n",
    "ax.set_ylim(ylim_min, ylim_max)\n",
    "ax.set_yticks(major_ticks)\n",
    "ax.set_yticks(minor_ticks, minor=True)\n",
    "plt.plot(epochs_range, acc, label='Training Accuracy')\n",
    "plt.plot(epochs_range, val_acc, label='Validation Accuracy')\n",
    "plt.legend(loc='lower right')\n",
    "plt.title('Training and Validation Accuracy')\n",
    "\n",
    "ax = plt.subplot(1, 3, 2)\n",
    "ylim_min, ylim_max = 0.85, 1.0\n",
    "major_ticks = np.arange(ylim_min, ylim_max, 0.05)\n",
    "minor_ticks = np.arange(ylim_min, ylim_max, 0.01)\n",
    "ax.set_ylim(ylim_min, ylim_max)\n",
    "ax.set_yticks(major_ticks)\n",
    "ax.set_yticks(minor_ticks, minor=True)\n",
    "plt.plot(epochs_range, auc, label='Training ROC AUC')\n",
    "plt.plot(epochs_range, val_auc, label='Validation ROC AUC')\n",
    "plt.legend(loc='lower right')\n",
    "plt.title('Training and Validation ROC AUC')\n",
    "\n",
    "ax = plt.subplot(1, 3, 3)\n",
    "ylim_min, ylim_max = 0., 0.4\n",
    "major_ticks = np.arange(ylim_min, ylim_max, 0.05)\n",
    "minor_ticks = np.arange(ylim_min, ylim_max, 0.01)\n",
    "ax.set_ylim(ylim_min, ylim_max)\n",
    "ax.set_yticks(major_ticks)\n",
    "ax.set_yticks(minor_ticks, minor=True)\n",
    "plt.plot(epochs_range, loss, label='Training Loss')\n",
    "plt.plot(epochs_range, val_loss, label='Validation Loss')\n",
    "plt.legend(loc='upper right')\n",
    "plt.title('Training and Validation Loss')\n",
    "plt.show()"
   ]
  },
  {
   "cell_type": "code",
   "execution_count": null,
   "metadata": {},
   "outputs": [],
   "source": []
  }
 ],
 "metadata": {
  "accelerator": "GPU",
  "colab": {
   "collapsed_sections": [],
   "name": "classification.ipynb",
   "private_outputs": true,
   "provenance": [],
   "toc_visible": true
  },
  "kernelspec": {
   "display_name": "Python 3",
   "language": "python",
   "name": "python3"
  },
  "language_info": {
   "codemirror_mode": {
    "name": "ipython",
    "version": 3
   },
   "file_extension": ".py",
   "mimetype": "text/x-python",
   "name": "python",
   "nbconvert_exporter": "python",
   "pygments_lexer": "ipython3",
   "version": "3.6.8"
  }
 },
 "nbformat": 4,
 "nbformat_minor": 1
}